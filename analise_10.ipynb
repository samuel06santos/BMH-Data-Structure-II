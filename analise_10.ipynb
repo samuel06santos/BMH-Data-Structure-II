{
 "cells": [
  {
   "cell_type": "code",
   "execution_count": 1,
   "metadata": {},
   "outputs": [],
   "source": [
    "from lorem_text import lorem\n",
    "\n",
    "def gerador_lorem(tamanhoCadeia):\n",
    "  \"\"\"\n",
    "  A função recebe o número limite de caracteres. \n",
    "  O número de palavras foi arbitrario para conter palavras suficientes para atender os requisitos da atividade.\n",
    "  \"\"\"\n",
    "  \n",
    "  words = 1000\n",
    "  return lorem.words(words)[:tamanhoCadeia]"
   ]
  },
  {
   "cell_type": "code",
   "execution_count": 2,
   "metadata": {},
   "outputs": [],
   "source": [
    "from time import time, perf_counter\n",
    "from sys import stdout\n",
    "\n",
    "def pega_tempo(func):\n",
    "    def wrap(*args, **kwargs):\n",
    "        start = perf_counter()\n",
    "        result = func(*args, **kwargs)\n",
    "        end = perf_counter()\n",
    "        stdout.write(\"Tempo de execução: {:.10f} segundos (resultado = {})\\n\".format(end-start, result))\n",
    "    return wrap\n",
    "\n",
    "@pega_tempo\n",
    "def BMH(texto: str, padrao: str) -> list:\n",
    "  n, m = len(texto), len(padrao)\n",
    "  \n",
    "  # A priori, cria um dicionário contendo os caracteres do conjunto do `padrao` como chaves, e todos os valores são setados para o tamanho do `padrao`\n",
    "  tabela: dict = {caractere: m for caractere in set(padrao)}\n",
    "  for i in range(m - 1):\n",
    "    tabela[ padrao[i] ] = m - i - 1\n",
    "  # print(tabela)\n",
    "  \n",
    "  resultado: list = []\n",
    "  \n",
    "  i = 0\n",
    "  while i <= n - m:\n",
    "    j = m - 1\n",
    "    while j >= 0 and padrao[j] == texto[i + j]:\n",
    "      j -= 1\n",
    "  \n",
    "    if j < 0:\n",
    "      resultado.append(i)\n",
    "      i += m\n",
    "  \n",
    "    else:\n",
    "      # Pega o valor do caractere na tabela, se nao existir o valor é igual a `m`\n",
    "      i += tabela.get(texto[i + (m - 1)], m)\n",
    "\n",
    "  return resultado"
   ]
  },
  {
   "cell_type": "code",
   "execution_count": 3,
   "metadata": {},
   "outputs": [],
   "source": [
    "padrao = \"et\"\n",
    "valores = [500, 1_000, 1_500, 2_000, 3_000]\n",
    "lista: list[str] = []\n",
    "for i in valores:\n",
    "    lista.append(gerador_lorem(i))"
   ]
  },
  {
   "cell_type": "markdown",
   "metadata": {},
   "source": [
    "### Para tamanho do texto 500:"
   ]
  },
  {
   "cell_type": "code",
   "execution_count": 4,
   "metadata": {},
   "outputs": [
    {
     "name": "stdout",
     "output_type": "stream",
     "text": [
      "Tempo de execução: 0.0001514000 segundos (resultado = [])\n",
      "Tempo de execução: 0.0001681000 segundos (resultado = [])\n",
      "Tempo de execução: 0.0001465000 segundos (resultado = [])\n",
      "Tempo de execução: 0.0000966000 segundos (resultado = [])\n",
      "Tempo de execução: 0.0001112000 segundos (resultado = [])\n",
      "Tempo de execução: 0.0001019000 segundos (resultado = [])\n",
      "Tempo de execução: 0.0001078999 segundos (resultado = [])\n",
      "Tempo de execução: 0.0000971000 segundos (resultado = [])\n",
      "Tempo de execução: 0.0000872000 segundos (resultado = [])\n",
      "Tempo de execução: 0.0000595000 segundos (resultado = [])\n"
     ]
    }
   ],
   "source": [
    "for _ in range(10):\n",
    "    BMH(lista[0], padrao)"
   ]
  },
  {
   "cell_type": "markdown",
   "metadata": {},
   "source": [
    "### Para tamanho do texto 1.000:"
   ]
  },
  {
   "cell_type": "code",
   "execution_count": 5,
   "metadata": {},
   "outputs": [
    {
     "name": "stdout",
     "output_type": "stream",
     "text": [
      "Tempo de execução: 0.0002047000 segundos (resultado = [229, 449, 556, 858])\n",
      "Tempo de execução: 0.0002103000 segundos (resultado = [229, 449, 556, 858])\n",
      "Tempo de execução: 0.0001933000 segundos (resultado = [229, 449, 556, 858])\n",
      "Tempo de execução: 0.0001864000 segundos (resultado = [229, 449, 556, 858])\n",
      "Tempo de execução: 0.0001848000 segundos (resultado = [229, 449, 556, 858])\n",
      "Tempo de execução: 0.0001439000 segundos (resultado = [229, 449, 556, 858])\n",
      "Tempo de execução: 0.0001224000 segundos (resultado = [229, 449, 556, 858])\n",
      "Tempo de execução: 0.0001401000 segundos (resultado = [229, 449, 556, 858])\n",
      "Tempo de execução: 0.0001296000 segundos (resultado = [229, 449, 556, 858])\n",
      "Tempo de execução: 0.0002008000 segundos (resultado = [229, 449, 556, 858])\n"
     ]
    }
   ],
   "source": [
    "for _ in range(10):\n",
    "    BMH(lista[1], padrao)"
   ]
  },
  {
   "cell_type": "markdown",
   "metadata": {},
   "source": [
    "### Para tamanho do texto 1.500:"
   ]
  },
  {
   "cell_type": "code",
   "execution_count": 6,
   "metadata": {},
   "outputs": [
    {
     "name": "stdout",
     "output_type": "stream",
     "text": [
      "Tempo de execução: 0.0003111000 segundos (resultado = [274, 367, 584, 773, 996])\n",
      "Tempo de execução: 0.0002809000 segundos (resultado = [274, 367, 584, 773, 996])\n",
      "Tempo de execução: 0.0003635000 segundos (resultado = [274, 367, 584, 773, 996])\n",
      "Tempo de execução: 0.0002880000 segundos (resultado = [274, 367, 584, 773, 996])\n",
      "Tempo de execução: 0.0002641000 segundos (resultado = [274, 367, 584, 773, 996])\n",
      "Tempo de execução: 0.0003098000 segundos (resultado = [274, 367, 584, 773, 996])\n",
      "Tempo de execução: 0.0003027000 segundos (resultado = [274, 367, 584, 773, 996])\n",
      "Tempo de execução: 0.0003067000 segundos (resultado = [274, 367, 584, 773, 996])\n",
      "Tempo de execução: 0.0003722000 segundos (resultado = [274, 367, 584, 773, 996])\n",
      "Tempo de execução: 0.0003970000 segundos (resultado = [274, 367, 584, 773, 996])\n"
     ]
    }
   ],
   "source": [
    "for _ in range(10):\n",
    "    BMH(lista[2], padrao)"
   ]
  },
  {
   "cell_type": "markdown",
   "metadata": {},
   "source": [
    "### Para tamanho do texto 2.000:"
   ]
  },
  {
   "cell_type": "code",
   "execution_count": 7,
   "metadata": {},
   "outputs": [
    {
     "name": "stdout",
     "output_type": "stream",
     "text": [
      "Tempo de execução: 0.0005162000 segundos (resultado = [88, 197, 732, 1238, 1248, 1674, 1854])\n",
      "Tempo de execução: 0.0005161000 segundos (resultado = [88, 197, 732, 1238, 1248, 1674, 1854])\n",
      "Tempo de execução: 0.0004466000 segundos (resultado = [88, 197, 732, 1238, 1248, 1674, 1854])\n",
      "Tempo de execução: 0.0005366000 segundos (resultado = [88, 197, 732, 1238, 1248, 1674, 1854])\n",
      "Tempo de execução: 0.0004851000 segundos (resultado = [88, 197, 732, 1238, 1248, 1674, 1854])\n",
      "Tempo de execução: 0.0003794000 segundos (resultado = [88, 197, 732, 1238, 1248, 1674, 1854])\n",
      "Tempo de execução: 0.0003922000 segundos (resultado = [88, 197, 732, 1238, 1248, 1674, 1854])\n",
      "Tempo de execução: 0.0004078000 segundos (resultado = [88, 197, 732, 1238, 1248, 1674, 1854])\n",
      "Tempo de execução: 0.0003418000 segundos (resultado = [88, 197, 732, 1238, 1248, 1674, 1854])\n",
      "Tempo de execução: 0.0003710000 segundos (resultado = [88, 197, 732, 1238, 1248, 1674, 1854])\n"
     ]
    }
   ],
   "source": [
    "for _ in range(10):\n",
    "    BMH(lista[3], padrao)"
   ]
  },
  {
   "cell_type": "markdown",
   "metadata": {},
   "source": [
    "### Para tamanho do texto 3.000:"
   ]
  },
  {
   "cell_type": "code",
   "execution_count": 8,
   "metadata": {},
   "outputs": [
    {
     "name": "stdout",
     "output_type": "stream",
     "text": [
      "Tempo de execução: 0.0005955000 segundos (resultado = [258, 328, 675, 712, 1013, 1893, 2391, 2411, 2518, 2564])\n",
      "Tempo de execução: 0.0005639000 segundos (resultado = [258, 328, 675, 712, 1013, 1893, 2391, 2411, 2518, 2564])\n",
      "Tempo de execução: 0.0006493000 segundos (resultado = [258, 328, 675, 712, 1013, 1893, 2391, 2411, 2518, 2564])\n",
      "Tempo de execução: 0.0007617000 segundos (resultado = [258, 328, 675, 712, 1013, 1893, 2391, 2411, 2518, 2564])\n",
      "Tempo de execução: 0.0007787000 segundos (resultado = [258, 328, 675, 712, 1013, 1893, 2391, 2411, 2518, 2564])\n",
      "Tempo de execução: 0.0007222000 segundos (resultado = [258, 328, 675, 712, 1013, 1893, 2391, 2411, 2518, 2564])\n",
      "Tempo de execução: 0.0007041000 segundos (resultado = [258, 328, 675, 712, 1013, 1893, 2391, 2411, 2518, 2564])\n",
      "Tempo de execução: 0.0008121000 segundos (resultado = [258, 328, 675, 712, 1013, 1893, 2391, 2411, 2518, 2564])\n",
      "Tempo de execução: 0.0007644000 segundos (resultado = [258, 328, 675, 712, 1013, 1893, 2391, 2411, 2518, 2564])\n",
      "Tempo de execução: 0.0007362000 segundos (resultado = [258, 328, 675, 712, 1013, 1893, 2391, 2411, 2518, 2564])\n"
     ]
    }
   ],
   "source": [
    "for _ in range(10):\n",
    "    BMH(lista[4], padrao)"
   ]
  }
 ],
 "metadata": {
  "kernelspec": {
   "display_name": "Python 3",
   "language": "python",
   "name": "python3"
  },
  "language_info": {
   "codemirror_mode": {
    "name": "ipython",
    "version": 3
   },
   "file_extension": ".py",
   "mimetype": "text/x-python",
   "name": "python",
   "nbconvert_exporter": "python",
   "pygments_lexer": "ipython3",
   "version": "3.11.1"
  }
 },
 "nbformat": 4,
 "nbformat_minor": 2
}
