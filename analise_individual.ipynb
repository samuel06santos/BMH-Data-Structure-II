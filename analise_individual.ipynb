{
 "cells": [
  {
   "cell_type": "code",
   "execution_count": 16,
   "metadata": {},
   "outputs": [],
   "source": [
    "from lorem_text import lorem\n",
    "\n",
    "def gerador_lorem(tamanhoCadeia):\n",
    "  \"\"\"\n",
    "  A função recebe o número limite de caracteres. \n",
    "  O número de palavras foi arbitrario para conter palavras suficientes para atender os requisitos da atividade.\n",
    "  \"\"\"\n",
    "  \n",
    "  words = 1000\n",
    "  return lorem.words(words)[:tamanhoCadeia]\n"
   ]
  },
  {
   "cell_type": "code",
   "execution_count": 20,
   "metadata": {},
   "outputs": [],
   "source": [
    "def BMH(texto: str, padrao: str) -> list:\n",
    "  n, m = len(texto), len(padrao)\n",
    "  \n",
    "  # A priori, cria um dicionário contendo os caracteres do conjunto do `padrao` como chaves, e todos os valores são setados para o tamanho do `padrao`\n",
    "  tabela: dict = {caractere: m for caractere in set(padrao)}\n",
    "  for i in range(m - 1):\n",
    "    tabela[ padrao[i] ] = m - i - 1\n",
    "  # print(tabela)\n",
    "  \n",
    "  resultado: list = []\n",
    "  \n",
    "  i = 0\n",
    "  while i <= n - m:\n",
    "    j = m - 1\n",
    "    while j >= 0 and padrao[j] == texto[i + j]:\n",
    "      j -= 1\n",
    "  \n",
    "    if j < 0:\n",
    "      resultado.append(i)\n",
    "      i += m\n",
    "  \n",
    "    else:\n",
    "      # Pega o valor do caractere na tabela, se nao existir o valor é igual a `m`\n",
    "      i += tabela.get(texto[i + (m - 1)], m)\n",
    "\n",
    "  return resultado"
   ]
  },
  {
   "cell_type": "code",
   "execution_count": 33,
   "metadata": {},
   "outputs": [],
   "source": [
    "padrao = \"et\"\n",
    "valores = [500, 1000, 1500, 2000, 3000]\n",
    "lista: list[str] = []\n",
    "for i in valores:\n",
    "    lista.append(gerador_lorem(i))"
   ]
  },
  {
   "cell_type": "code",
   "execution_count": 43,
   "metadata": {},
   "outputs": [
    {
     "data": {
      "text/plain": [
       "['harum eligendi fuga repellendus ipsa commodi quaerat reiciendis voluptas expedita inventore quis ratione nisi id blanditiis labore voluptates perspiciatis ex deserunt quia illo cumque numquam necessitatibus temporibus repellat quos dolorum vitae autem cupiditate perferendis eveniet quam at aperiam cum sed sequi eaque accusantium hic asperiores ullam iusto magnam libero facilis dolores officia maxime alias odit nemo odio aspernatur enim molestias tempora assumenda eum rerum similique vel exceptur',\n",
       " 'exercitationem reiciendis illum enim sint sit dolor laboriosam ut aut saepe culpa et velit iusto perspiciatis deserunt consectetur sequi magnam eos fugit eum dignissimos commodi facere repellendus temporibus omnis nam praesentium illo odit numquam deleniti eligendi mollitia tempore nobis beatae eveniet qui possimus soluta nulla dolores delectus quas dolorem tenetur minima maxime fugiat quasi alias vero dolorum sed corporis architecto officia sunt recusandae magni debitis quibusdam pariatur quam id obcaecati rem inventore ducimus est ab quo sapiente molestiae quae vitae at non ea amet eius modi eaque molestias aperiam minus veniam animi nihil ipsum iste a labore assumenda accusantium adipisci quia dicta doloribus neque ipsam voluptates impedit libero aliquid doloremque placeat nesciunt repellat perferendis nostrum incidunt dolore repudiandae suscipit quod tempora consequatur voluptatem error maiores reprehenderit quaerat provident optio ex quidem expedita rerum aliquam blanditiis iure c',\n",
       " 'libero minus quibusdam harum fuga alias tempore inventore adipisci incidunt eius soluta vel quo nostrum dignissimos fugiat repellendus nisi molestiae ex magnam reiciendis a sapiente recusandae iusto id commodi dolor odio culpa et doloribus accusantium dolore dolorem similique sint voluptatum autem ipsum neque corporis repellat illo dolores ipsa quaerat consectetur labore vitae necessitatibus esse temporibus placeat rem aperiam porro quas sit voluptas itaque quia corrupti tempora reprehenderit maiores ipsam pariatur nobis laboriosam cum nam officiis perferendis nulla delectus assumenda perspiciatis ea sed tenetur provident quam suscipit possimus animi optio iste praesentium eaque doloremque non dolorum laborum repudiandae exercitationem architecto voluptatibus atque rerum ad debitis maxime quasi qui dicta quos consequuntur aliquam omnis deleniti facilis nihil earum aspernatur magni unde distinctio quod cumque deserunt sequi hic quis velit blanditiis eligendi ducimus vero fugit ullam quisquam eveniet iure natus asperiores veritatis obcaecati impedit nesciunt ut illum numquam mollitia eos molestias expedita facere sunt laudantium minima voluptatem totam ratione accusamus error modi at quidem cupiditate explicabo beatae veniam enim quae consequatur nemo aut excepturi ab est odit in voluptate amet aliquid voluptates saepe officia eum laboriosam magni quam illum iusto itaque eveniet neque voluptatibus voluptatum sit dolorem deleniti fugit impedit omnis corporis commodi odit adipisc',\n",
       " 'vitae illum odio natus atque quam veritatis nulla saepe nostrum asperiores nisi quis omnis tempora perspiciatis laboriosam consequuntur porro nam cupiditate expedita deleniti ducimus eum ipsum cum impedit magni eius cumque minus commodi optio fugiat quia molestiae repellendus voluptates non et quod dicta accusantium voluptas praesentium id iure similique facilis nobis voluptatibus placeat nesciunt modi animi voluptatem vero mollitia laudantium ad aliquam obcaecati officia corporis unde amet aspernatur blanditiis beatae repellat recusandae soluta dolore libero aliquid sequi esse corrupti ex accusamus fugit maxime doloremque a illo dolorum quo inventore qui molestias nemo itaque exercitationem tempore dignissimos minima voluptatum voluptate deserunt tenetur quibusdam nihil laborum in possimus iusto earum velit dolores excepturi ipsam vel quisquam consequatur dolorem harum ullam alias quidem error sint hic rerum assumenda ipsa veniam iste at reprehenderit magnam sed sit ab quos debitis quaerat repudiandae aperiam rem maiores officiis facere architecto necessitatibus temporibus eos incidunt delectus pariatur ut numquam explicabo quas autem sunt neque consectetur odit culpa provident fuga suscipit distinctio sapiente eligendi eaque doloribus perferendis quasi adipisci dolor quae est enim totam aut eveniet ratione reiciendis labore ea ipsa sequi nisi vero voluptatem molestiae vitae in eligendi illo iure sunt repellat laboriosam tempora accusamus mollitia libero voluptas nihil itaque aliquid vel rem necessitatibus impedit optio alias ipsam facilis quos ducimus error ullam placeat temporibus minus non sit omnis totam laudantium iste officia molestias tenetur ipsum reiciendis est cumque eaque deserunt perspiciatis nemo excepturi odit doloremque praesentium repudiandae quisquam modi aut dicta ad quidem corporis dolorum nostrum porro cupiditate assumenda quis sed fugiat atque nobis quia similique quod consequatur aperiam fuga animi voluptates architecto magni nam eum consectet',\n",
       " 'asperiores impedit nam odio esse optio sapiente reiciendis nesciunt vitae ipsam eaque consequatur quam distinctio sequi quasi ducimus accusamus tempore culpa repudiandae necessitatibus aliquid quia magni odit id dolor fugit molestiae hic numquam beatae rem maxime fugiat unde illum in consequuntur ex libero ullam doloremque a consectetur dolorum ratione voluptas blanditiis enim corrupti est eveniet quas saepe quisquam harum laboriosam iure sint officiis quis recusandae praesentium tempora quae quod eligendi ipsa maiores debitis repellendus soluta et adipisci alias tenetur dolorem porro pariatur aut earum explicabo mollitia voluptates architecto cupiditate nostrum veritatis error perferendis temporibus deserunt sunt totam vero nihil fuga corporis assumenda ut doloribus magnam itaque at ad nulla quaerat provident omnis veniam voluptatum laborum sit eos voluptate dolore nisi voluptatem nobis officia qui eius facilis perspiciatis expedita similique vel atque quos suscipit amet voluptatibus excepturi rerum quibusdam placeat quidem illo non labore aspernatur cum autem ea iusto commodi aperiam velit exercitationem obcaecati minima repellat ab iste dicta modi dignissimos inventore aliquam molestias facere minus deleniti accusantium dolores eum incidunt nemo laudantium reprehenderit ipsum quo neque natus delectus animi sed cumque possimus excepturi sit blanditiis exercitationem harum voluptas quibusdam amet veniam vero doloremque adipisci neque qui molestias ullam aspernatur ea incidunt aliquid suscipit odio vel facere quas accusantium similique dicta ut voluptate ipsum pariatur eaque consectetur fugiat eveniet quaerat corrupti reprehenderit dolore totam corporis placeat minima minus in culpa enim consequuntur voluptates ad optio non asperiores maiores sapiente provident nobis tempore quidem soluta reiciendis fuga labore perferendis impedit sequi quisquam aperiam itaque ab ratione est cum voluptatum nisi tempora inventore id beatae alias delectus quos at cupiditate doloribus rerum dolorum eligendi architecto distinctio a autem nesciunt veritatis quis facilis aut nam illo iste perspiciatis modi nulla repudiandae eum eos fugit quae temporibus tenetur obcaecati nostrum rem assumenda odit consequatur commodi mollitia ducimus voluptatem saepe quam iusto magnam molestiae sed laborum ex laudantium debitis omnis quod eius laboriosam maxime et deleniti animi accusamus libero esse iure dignissimos nihil sunt nemo dolorem unde voluptatibus recusandae dolores aliquam quo dolor praesentium error necessitatibus ipsam magni illum porro officia officiis sint possimus expedita explicabo velit cumque vitae deserunt quia atque repellendus hic ipsa quasi numquam repellat natus earum a nemo aspernatur fugiat dolorum in et perferendis quaerat architecto eligendi voluptatum eaque perspiciatis exercitationem tempore quidem aut dolorem libero ipsa distinctio expedita delectus saepe nisi nam dignissimos at doloribus velit asperiores aperiam natus eveniet maiores sapiente eos molest']"
      ]
     },
     "execution_count": 43,
     "metadata": {},
     "output_type": "execute_result"
    }
   ],
   "source": [
    "lista"
   ]
  },
  {
   "cell_type": "markdown",
   "metadata": {},
   "source": [
    "### Resultado para o tamanho de 500:"
   ]
  },
  {
   "cell_type": "code",
   "execution_count": 44,
   "metadata": {},
   "outputs": [
    {
     "name": "stdout",
     "output_type": "stream",
     "text": [
      "65.2 µs ± 7.65 µs per loop (mean ± std. dev. of 7 runs, 10,000 loops each)\n"
     ]
    }
   ],
   "source": [
    "%timeit BMH(lista[0], padrao)"
   ]
  },
  {
   "cell_type": "markdown",
   "metadata": {},
   "source": [
    "### Resultado para o tamanho de 1.000:"
   ]
  },
  {
   "cell_type": "code",
   "execution_count": 45,
   "metadata": {},
   "outputs": [
    {
     "name": "stdout",
     "output_type": "stream",
     "text": [
      "130 µs ± 8.12 µs per loop (mean ± std. dev. of 7 runs, 10,000 loops each)\n"
     ]
    }
   ],
   "source": [
    "%timeit BMH(lista[1], padrao)"
   ]
  },
  {
   "cell_type": "markdown",
   "metadata": {},
   "source": [
    "### Resultado para o tamanho de 1.500:"
   ]
  },
  {
   "cell_type": "code",
   "execution_count": 46,
   "metadata": {},
   "outputs": [
    {
     "name": "stdout",
     "output_type": "stream",
     "text": [
      "212 µs ± 21.4 µs per loop (mean ± std. dev. of 7 runs, 10,000 loops each)\n"
     ]
    }
   ],
   "source": [
    "%timeit BMH(lista[2], padrao)"
   ]
  },
  {
   "cell_type": "markdown",
   "metadata": {},
   "source": [
    "### Resultado para o tamanho de 2.000:"
   ]
  },
  {
   "cell_type": "code",
   "execution_count": 47,
   "metadata": {},
   "outputs": [
    {
     "name": "stdout",
     "output_type": "stream",
     "text": [
      "333 µs ± 44.7 µs per loop (mean ± std. dev. of 7 runs, 1,000 loops each)\n"
     ]
    }
   ],
   "source": [
    "%timeit BMH(lista[3], padrao)"
   ]
  },
  {
   "cell_type": "markdown",
   "metadata": {},
   "source": [
    "### Resultado para o tamanho de 3.000:"
   ]
  },
  {
   "cell_type": "code",
   "execution_count": 48,
   "metadata": {},
   "outputs": [
    {
     "name": "stdout",
     "output_type": "stream",
     "text": [
      "439 µs ± 48.2 µs per loop (mean ± std. dev. of 7 runs, 1,000 loops each)\n"
     ]
    }
   ],
   "source": [
    "%timeit BMH(lista[4], padrao)"
   ]
  }
 ],
 "metadata": {
  "kernelspec": {
   "display_name": "Python 3",
   "language": "python",
   "name": "python3"
  },
  "language_info": {
   "codemirror_mode": {
    "name": "ipython",
    "version": 3
   },
   "file_extension": ".py",
   "mimetype": "text/x-python",
   "name": "python",
   "nbconvert_exporter": "python",
   "pygments_lexer": "ipython3",
   "version": "3.11.1"
  }
 },
 "nbformat": 4,
 "nbformat_minor": 2
}
